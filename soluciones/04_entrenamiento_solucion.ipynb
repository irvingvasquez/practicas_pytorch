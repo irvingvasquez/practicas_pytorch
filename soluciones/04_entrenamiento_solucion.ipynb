{
 "cells": [
  {
   "attachments": {},
   "cell_type": "markdown",
   "metadata": {},
   "source": [
    "# Entrenamiento de una red neuronal (solucion)\n",
    "\n",
    "Al entrenar una red buscamos que ésta tenga un comportamiendo presumiblemente adecuado y observable en un conjunto de datos. Es decír a partir de los ejemplos esperamos que la red aprenda una función $f$ tal que la salida de la red imite el patrón en los datos. En nuestro caso, al utilizar el conjunto de entrenamiento MNIST esperamos que la función aprendida provea como salida el número al cual corresponde la imagen de entrada.\n",
    "\n",
    "En este notebook implementaremos el descenso por gradiente usnado pytorch para entrenar la red que ya codificamos en el ejercicio anterior. Consideramos que que nuesto notebook es correcto si es que mejoramos el desempeño de la red previo a que sea entrenada.\n",
    "\n",
    "Como ejemplo tenemos la figura siguiente, donde la entrada es una imagen en escala de grises y la salida es la clase '4' donde observamos que esa locación tiene la mayor probabilidad.\n",
    "\n",
    "<img src=\"../archivos/function_approx.png\">\n",
    "\n",
    "Imagen tomada de [1]\n",
    "\n",
    "[![Open In Colab](https://colab.research.google.com/assets/colab-badge.svg)](https://colab.research.google.com/github/irvingvasquez/practicas_pytorch/blob/master/soluciones/04_entrenamiento.ipynb)\n",
    "\n",
    "Si ejecutas en COLAB debes copiar los archivos extra de este repositorio.\n",
    "\n",
    "@juan1rving"
   ]
  },
  {
   "attachments": {},
   "cell_type": "markdown",
   "metadata": {},
   "source": [
    "## Retropropagación y Autograd\n",
    "\n",
    "Pytorch provee el módulo *autograd* para calcular los gradientes, y si!, nos evita estar calculando las derivadas! Esto lo realiza a partir de mantener en la vista todas las operaciones que se ejecutan sobre los tensores.\n",
    "\n",
    "Si deseas asegurarte que autograd siga a un tensor especificamos *requires_grad*. Esto se puede hacer en la creación o en cualquier momento. \n",
    "\n",
    "Veamos el siguiente código de ejemplo:\n",
    "\n",
    "```python\n",
    "# especificamos que la variable x es seguida por autograd\n",
    "x = torch.zeros(1, requires_grad=True)\n",
    "# si en algún momento desamos que temporalmente se deje de seguir el tensor usamos\n",
    ">>> with torch.no_grad():\n",
    "...     y = x * 2\n",
    "# establecemos de nuevo el seguimiento\n",
    ">>> y.requires_grad\n",
    "```\n",
    "\n",
    "Si queremos eliminar autograd de todos los tensores usamos `torch.set_grad_enabled(True|False)`.\n",
    "\n",
    "Ahora bien, para calcular los gradientes simplemente usamos el método *backward()*. Por ejemplo para un tensor *cualquiera* hacemos *z.backward()*\n",
    "\n",
    "Veamos a continuación el uso del gradiente."
   ]
  },
  {
   "cell_type": "code",
   "execution_count": 2,
   "metadata": {},
   "outputs": [],
   "source": [
    "# importamos paquetes\n",
    "%matplotlib inline\n",
    "%config InlineBackend.figure_format = 'retina'\n",
    "\n",
    "from collections import OrderedDict\n",
    "\n",
    "import numpy as np\n",
    "import time\n",
    "\n",
    "import torch\n",
    "from torch import nn\n",
    "from torch import optim\n",
    "import torch.nn.functional as F\n",
    "\n",
    "import helper"
   ]
  },
  {
   "cell_type": "code",
   "execution_count": 3,
   "metadata": {},
   "outputs": [
    {
     "name": "stdout",
     "output_type": "stream",
     "text": [
      "tensor([ 1.5918,  0.6469,  0.0592, -0.2960], requires_grad=True)\n"
     ]
    }
   ],
   "source": [
    "# especificamos que el tensor x es seguido por autograd \n",
    "x = torch.randn(4, requires_grad=True)\n",
    "print(x)"
   ]
  },
  {
   "cell_type": "code",
   "execution_count": 4,
   "metadata": {},
   "outputs": [
    {
     "name": "stdout",
     "output_type": "stream",
     "text": [
      "tensor([2.5338, 0.4185, 0.0035, 0.0876], grad_fn=<PowBackward0>)\n"
     ]
    }
   ],
   "source": [
    "# generamos un nuevo tensor a partir de x\n",
    "# por ejemplo elevemos al cuadrado la variable x\n",
    "y = x**2\n",
    "print(y)"
   ]
  },
  {
   "cell_type": "code",
   "execution_count": 5,
   "metadata": {},
   "outputs": [
    {
     "name": "stdout",
     "output_type": "stream",
     "text": [
      "<PowBackward0 object at 0x000001EBC2899A80>\n"
     ]
    }
   ],
   "source": [
    "## con grad_fn observamos la operación que generó y, es decir una operación potencia (pow)\n",
    "print(y.grad_fn)\n"
   ]
  },
  {
   "cell_type": "code",
   "execution_count": 6,
   "metadata": {},
   "outputs": [
    {
     "name": "stdout",
     "output_type": "stream",
     "text": [
      "tensor(0.7608, grad_fn=<MeanBackward0>)\n"
     ]
    }
   ],
   "source": [
    "# De esta forma es posible saber las operaciónes que generan cada tensor, y por tanto, es posible calcular el gradiente.\n",
    "# Hagamos ahora una operación de media\n",
    "z = y.mean()\n",
    "print(z)"
   ]
  },
  {
   "cell_type": "code",
   "execution_count": 7,
   "metadata": {},
   "outputs": [
    {
     "name": "stdout",
     "output_type": "stream",
     "text": [
      "None\n"
     ]
    }
   ],
   "source": [
    "# hasta este momento los gradientes son cero\n",
    "print(x.grad)"
   ]
  },
  {
   "cell_type": "markdown",
   "metadata": {},
   "source": [
    "Para calcular los gradientes es necesario llamar al método *.backward* sobre la variable. Supongamos sobre *z*. Esto calcula el gradiente de z con respecto de x.\n",
    "\n",
    "El gradiente analítico de las operaciónes que hicimos es:\n",
    "$$\n",
    "\\frac{\\partial z}{\\partial x} = \\frac{\\partial}{\\partial x}\\left[\\frac{1}{n}\\sum_i^n x_i^2\\right] = \\frac{x}{2}\n",
    "$$\n",
    "\n",
    "Ahora comprobemos"
   ]
  },
  {
   "cell_type": "code",
   "execution_count": 8,
   "metadata": {},
   "outputs": [
    {
     "name": "stdout",
     "output_type": "stream",
     "text": [
      "tensor([ 0.7959,  0.3234,  0.0296, -0.1480])\n",
      "tensor([ 0.7959,  0.3234,  0.0296, -0.1480], grad_fn=<DivBackward0>)\n"
     ]
    }
   ],
   "source": [
    "z.backward()\n",
    "print(x.grad)\n",
    "\n",
    "print(x/2)"
   ]
  },
  {
   "cell_type": "markdown",
   "metadata": {},
   "source": [
    "## Conjunto de datos y red neuronal\n",
    "\n",
    "Ahora descargemos los datos y generemos una red tal cual lo vimos en el notebook anterior. "
   ]
  },
  {
   "cell_type": "code",
   "execution_count": 9,
   "metadata": {},
   "outputs": [],
   "source": [
    "from torchvision import datasets, transforms\n",
    "\n",
    "# Define a transform to normalize the data\n",
    "transform = transforms.Compose([transforms.ToTensor(),\n",
    "                                #transforms.Normalize((0.5, 0.5, 0.5), (0.5, 0.5, 0.5)),\n",
    "                                transforms.Normalize([0.5],[0.5])\n",
    "                             ])\n",
    "# Download and load the training data\n",
    "trainset = datasets.MNIST('MNIST_data/', download=True, train=True, transform=transform)\n",
    "trainloader = torch.utils.data.DataLoader(trainset, batch_size=64, shuffle=True)"
   ]
  },
  {
   "cell_type": "code",
   "execution_count": 10,
   "metadata": {},
   "outputs": [],
   "source": [
    "# Hyperparameters for our network\n",
    "input_size = 784\n",
    "hidden_sizes = [128, 64]\n",
    "output_size = 10\n",
    "\n",
    "# Build a feed-forward network\n",
    "model = nn.Sequential(OrderedDict([\n",
    "                      ('fc1', nn.Linear(input_size, hidden_sizes[0])),\n",
    "                      ('relu1', nn.ReLU()),\n",
    "                      ('fc2', nn.Linear(hidden_sizes[0], hidden_sizes[1])),\n",
    "                      ('relu2', nn.ReLU()),\n",
    "                      ('logits', nn.Linear(hidden_sizes[1], output_size))]))\n",
    "\n",
    "# NOTA solo calcularemos los logits y definiremos la perdida a partir de ellos"
   ]
  },
  {
   "cell_type": "markdown",
   "metadata": {},
   "source": [
    "## Entrenamiento de la red"
   ]
  },
  {
   "attachments": {},
   "cell_type": "markdown",
   "metadata": {},
   "source": [
    "Lo primero que definiremos será la función de pérdida (loss) que es nombrada en pytorch como **criterion**. En este ejemplo estamos utilizando softmax, asi que definimos el criterio como \n",
    "```\n",
    "criterion = nn.CrossEntropyLoss()\n",
    "```\n",
    "Más tarde, en el entrenamiento, veremos que *loss = criterion(output, targets)* calcula la pérdida.\n",
    "\n",
    "Lo segundo que definiremos será el optimizador, para este ejemplo usaremos SGD (stochastic gradient descent). Simplemente llamamos a *torch.optim.SGD* y le pasamos los parámetros de la red y el learning rate. La instrucción implementada se verá algo como lo siguiente: \n",
    "```\n",
    "optimizer = optim.SGD(model.parameters(), lr=0.01)\n",
    "```"
   ]
  },
  {
   "cell_type": "code",
   "execution_count": 11,
   "metadata": {},
   "outputs": [],
   "source": [
    "# TODO: Define la pérdida \n",
    "criterion = nn.CrossEntropyLoss()\n",
    "optimizer = optim.SGD(model.parameters(), lr=0.01)"
   ]
  },
  {
   "attachments": {},
   "cell_type": "markdown",
   "metadata": {},
   "source": [
    "Antes de realizar el entrenamiento completo haremos un paso del aprendizaje. Este paso se compone de las siguientes tareas:\n",
    "\n",
    "1. Realizar un pase frontal de la red\n",
    "2. Utilizar los logits para calcular la pérdida\n",
    "3. Realizar la retropropagación para calcular los gradientes.\n",
    "4. Actualizar los pesos usando el optimizador.\n",
    "\n",
    "Veamos el ejemplo\n"
   ]
  },
  {
   "cell_type": "code",
   "execution_count": 12,
   "metadata": {},
   "outputs": [
    {
     "name": "stdout",
     "output_type": "stream",
     "text": [
      "Initial weights -  Parameter containing:\n",
      "tensor([[-0.0209, -0.0269, -0.0154,  ...,  0.0298,  0.0329,  0.0174],\n",
      "        [-0.0178, -0.0145,  0.0189,  ...,  0.0315, -0.0233, -0.0138],\n",
      "        [-0.0052, -0.0084,  0.0236,  ...,  0.0313,  0.0295, -0.0266],\n",
      "        ...,\n",
      "        [-0.0232, -0.0311,  0.0008,  ..., -0.0227, -0.0092, -0.0297],\n",
      "        [ 0.0243, -0.0225,  0.0227,  ..., -0.0272,  0.0317,  0.0089],\n",
      "        [-0.0060,  0.0160, -0.0119,  ...,  0.0119,  0.0082, -0.0345]],\n",
      "       requires_grad=True)\n"
     ]
    }
   ],
   "source": [
    "print('Initial weights - ', model.fc1.weight)\n"
   ]
  },
  {
   "cell_type": "code",
   "execution_count": 13,
   "metadata": {},
   "outputs": [
    {
     "name": "stdout",
     "output_type": "stream",
     "text": [
      "Gradient - tensor([[ 0.0024,  0.0024,  0.0024,  ...,  0.0024,  0.0024,  0.0024],\n",
      "        [-0.0012, -0.0012, -0.0012,  ..., -0.0012, -0.0012, -0.0012],\n",
      "        [-0.0012, -0.0012, -0.0012,  ..., -0.0012, -0.0012, -0.0012],\n",
      "        ...,\n",
      "        [-0.0009, -0.0009, -0.0009,  ..., -0.0009, -0.0009, -0.0009],\n",
      "        [ 0.0018,  0.0018,  0.0018,  ...,  0.0018,  0.0018,  0.0018],\n",
      "        [-0.0002, -0.0002, -0.0002,  ..., -0.0002, -0.0002, -0.0002]])\n"
     ]
    }
   ],
   "source": [
    "images, labels = next(iter(trainloader))\n",
    "images.resize_(64, 784)\n",
    "\n",
    "# Limpiar los gradientes por que se acumulan\n",
    "optimizer.zero_grad()\n",
    "\n",
    "# Pase hacia adelante\n",
    "output = model.forward(images)\n",
    "# Perdida\n",
    "loss = criterion(output, labels)\n",
    "# Pase de reversa\n",
    "loss.backward()\n",
    "print('Gradient -', model.fc1.weight.grad)\n",
    "# Actualiza los pesos de acuerdo a un paso del optimizador\n",
    "optimizer.step()"
   ]
  },
  {
   "cell_type": "code",
   "execution_count": 14,
   "metadata": {},
   "outputs": [
    {
     "name": "stdout",
     "output_type": "stream",
     "text": [
      "Updated weights -  Parameter containing:\n",
      "tensor([[-0.0209, -0.0269, -0.0154,  ...,  0.0298,  0.0329,  0.0174],\n",
      "        [-0.0178, -0.0145,  0.0190,  ...,  0.0315, -0.0233, -0.0138],\n",
      "        [-0.0052, -0.0084,  0.0236,  ...,  0.0313,  0.0295, -0.0266],\n",
      "        ...,\n",
      "        [-0.0232, -0.0311,  0.0008,  ..., -0.0227, -0.0092, -0.0297],\n",
      "        [ 0.0243, -0.0226,  0.0227,  ..., -0.0272,  0.0317,  0.0089],\n",
      "        [-0.0060,  0.0160, -0.0119,  ...,  0.0119,  0.0082, -0.0345]],\n",
      "       requires_grad=True)\n"
     ]
    }
   ],
   "source": [
    "print('Updated weights - ', model.fc1.weight)"
   ]
  },
  {
   "attachments": {},
   "cell_type": "markdown",
   "metadata": {},
   "source": [
    "## Entrenamiento por épocas\n",
    "\n",
    "Ahora si, entrenemos la red por varias épocas. Para ello programaremos el algoritmo de  descenso por gradiente. De forma general éste funciona como sigue:\n",
    "\n",
    "- Para un número de *épocas*:\n",
    "    - Para cada *lote* en el conjunto de datos:\n",
    "        - Salida = Red predice usando el *lote*\n",
    "        - Calcular *pérdida* a partir de la *salida* y de las *etiquetas* reales\n",
    "        - Términos de error = Retropropagación a partir de la *pérdida*\n",
    "        - Actualizar pesos usando el optimizador\n",
    "        \n",
    "    "
   ]
  },
  {
   "cell_type": "code",
   "execution_count": 15,
   "metadata": {},
   "outputs": [],
   "source": [
    "# hiperparámetros\n",
    "# número de épocas\n",
    "epochs = 5\n",
    "tasa_de_aprendizaje = 0.003\n",
    "\n",
    "# TODO: redefine la configuración del optimizador usando la tasa de aprendizaje objetivo\n",
    "optimizer = optim.SGD(model.parameters(), lr=tasa_de_aprendizaje)"
   ]
  },
  {
   "cell_type": "code",
   "execution_count": 16,
   "metadata": {},
   "outputs": [
    {
     "name": "stdout",
     "output_type": "stream",
     "text": [
      "Epoch: 1/5...  Loss: 2.3046\n",
      "Epoch: 1/5...  Loss: 2.2872\n",
      "Epoch: 1/5...  Loss: 2.2716\n",
      "Epoch: 1/5...  Loss: 2.2568\n",
      "Epoch: 1/5...  Loss: 2.2376\n",
      "Epoch: 1/5...  Loss: 2.2195\n",
      "Epoch: 1/5...  Loss: 2.2027\n",
      "Epoch: 1/5...  Loss: 2.1811\n",
      "Epoch: 1/5...  Loss: 2.1575\n",
      "Epoch: 1/5...  Loss: 2.1287\n",
      "Epoch: 1/5...  Loss: 2.0997\n",
      "Epoch: 1/5...  Loss: 2.0582\n",
      "Epoch: 1/5...  Loss: 2.0252\n",
      "Epoch: 1/5...  Loss: 1.9713\n",
      "Epoch: 1/5...  Loss: 1.9278\n",
      "Epoch: 1/5...  Loss: 1.8733\n",
      "Epoch: 1/5...  Loss: 1.8159\n",
      "Epoch: 1/5...  Loss: 1.7716\n",
      "Epoch: 1/5...  Loss: 1.6861\n",
      "Epoch: 1/5...  Loss: 1.6451\n",
      "Epoch: 1/5...  Loss: 1.5694\n",
      "Epoch: 1/5...  Loss: 1.5069\n",
      "Epoch: 1/5...  Loss: 1.4317\n",
      "Epoch: 2/5...  Loss: 0.7626\n",
      "Epoch: 2/5...  Loss: 1.3272\n",
      "Epoch: 2/5...  Loss: 1.2737\n",
      "Epoch: 2/5...  Loss: 1.2324\n",
      "Epoch: 2/5...  Loss: 1.1610\n",
      "Epoch: 2/5...  Loss: 1.1302\n",
      "Epoch: 2/5...  Loss: 1.0723\n",
      "Epoch: 2/5...  Loss: 1.0325\n",
      "Epoch: 2/5...  Loss: 0.9801\n",
      "Epoch: 2/5...  Loss: 0.9697\n",
      "Epoch: 2/5...  Loss: 0.9281\n",
      "Epoch: 2/5...  Loss: 0.8943\n",
      "Epoch: 2/5...  Loss: 0.8784\n",
      "Epoch: 2/5...  Loss: 0.8349\n",
      "Epoch: 2/5...  Loss: 0.8094\n",
      "Epoch: 2/5...  Loss: 0.7827\n",
      "Epoch: 2/5...  Loss: 0.7777\n",
      "Epoch: 2/5...  Loss: 0.7526\n",
      "Epoch: 2/5...  Loss: 0.7131\n",
      "Epoch: 2/5...  Loss: 0.7129\n",
      "Epoch: 2/5...  Loss: 0.6846\n",
      "Epoch: 2/5...  Loss: 0.6740\n",
      "Epoch: 2/5...  Loss: 0.6365\n",
      "Epoch: 3/5...  Loss: 0.0672\n",
      "Epoch: 3/5...  Loss: 0.6360\n",
      "Epoch: 3/5...  Loss: 0.6343\n",
      "Epoch: 3/5...  Loss: 0.6227\n",
      "Epoch: 3/5...  Loss: 0.5752\n",
      "Epoch: 3/5...  Loss: 0.5796\n",
      "Epoch: 3/5...  Loss: 0.5948\n",
      "Epoch: 3/5...  Loss: 0.5598\n",
      "Epoch: 3/5...  Loss: 0.5536\n",
      "Epoch: 3/5...  Loss: 0.5458\n",
      "Epoch: 3/5...  Loss: 0.6100\n",
      "Epoch: 3/5...  Loss: 0.5236\n",
      "Epoch: 3/5...  Loss: 0.5157\n",
      "Epoch: 3/5...  Loss: 0.5304\n",
      "Epoch: 3/5...  Loss: 0.4866\n",
      "Epoch: 3/5...  Loss: 0.5342\n",
      "Epoch: 3/5...  Loss: 0.5570\n",
      "Epoch: 3/5...  Loss: 0.4700\n",
      "Epoch: 3/5...  Loss: 0.5184\n",
      "Epoch: 3/5...  Loss: 0.4740\n",
      "Epoch: 3/5...  Loss: 0.4638\n",
      "Epoch: 3/5...  Loss: 0.4780\n",
      "Epoch: 3/5...  Loss: 0.4718\n",
      "Epoch: 3/5...  Loss: 0.4768\n",
      "Epoch: 4/5...  Loss: 0.3104\n",
      "Epoch: 4/5...  Loss: 0.4608\n",
      "Epoch: 4/5...  Loss: 0.4549\n",
      "Epoch: 4/5...  Loss: 0.4492\n",
      "Epoch: 4/5...  Loss: 0.4562\n",
      "Epoch: 4/5...  Loss: 0.4542\n",
      "Epoch: 4/5...  Loss: 0.4430\n",
      "Epoch: 4/5...  Loss: 0.4370\n",
      "Epoch: 4/5...  Loss: 0.4689\n",
      "Epoch: 4/5...  Loss: 0.4295\n",
      "Epoch: 4/5...  Loss: 0.4096\n",
      "Epoch: 4/5...  Loss: 0.4485\n",
      "Epoch: 4/5...  Loss: 0.4264\n",
      "Epoch: 4/5...  Loss: 0.4226\n",
      "Epoch: 4/5...  Loss: 0.4039\n",
      "Epoch: 4/5...  Loss: 0.4470\n",
      "Epoch: 4/5...  Loss: 0.4314\n",
      "Epoch: 4/5...  Loss: 0.4174\n",
      "Epoch: 4/5...  Loss: 0.4019\n",
      "Epoch: 4/5...  Loss: 0.4168\n",
      "Epoch: 4/5...  Loss: 0.4240\n",
      "Epoch: 4/5...  Loss: 0.4146\n",
      "Epoch: 4/5...  Loss: 0.4227\n",
      "Epoch: 5/5...  Loss: 0.0728\n",
      "Epoch: 5/5...  Loss: 0.4045\n",
      "Epoch: 5/5...  Loss: 0.3919\n",
      "Epoch: 5/5...  Loss: 0.4221\n",
      "Epoch: 5/5...  Loss: 0.3760\n",
      "Epoch: 5/5...  Loss: 0.4152\n",
      "Epoch: 5/5...  Loss: 0.4006\n",
      "Epoch: 5/5...  Loss: 0.4049\n",
      "Epoch: 5/5...  Loss: 0.3880\n",
      "Epoch: 5/5...  Loss: 0.3927\n",
      "Epoch: 5/5...  Loss: 0.3981\n",
      "Epoch: 5/5...  Loss: 0.3575\n",
      "Epoch: 5/5...  Loss: 0.3901\n",
      "Epoch: 5/5...  Loss: 0.4035\n",
      "Epoch: 5/5...  Loss: 0.3798\n",
      "Epoch: 5/5...  Loss: 0.3814\n",
      "Epoch: 5/5...  Loss: 0.3883\n",
      "Epoch: 5/5...  Loss: 0.3560\n",
      "Epoch: 5/5...  Loss: 0.3649\n",
      "Epoch: 5/5...  Loss: 0.3878\n",
      "Epoch: 5/5...  Loss: 0.3736\n",
      "Epoch: 5/5...  Loss: 0.4092\n",
      "Epoch: 5/5...  Loss: 0.3672\n",
      "Epoch: 5/5...  Loss: 0.3598\n"
     ]
    }
   ],
   "source": [
    "print_every = 40\n",
    "steps = 0\n",
    "\n",
    "for e in range(epochs):\n",
    "    running_loss = 0\n",
    "    # en cada iteración del for cargamos un batch\n",
    "    for images, labels in iter(trainloader):\n",
    "        steps += 1\n",
    "        # Aplanar las imagenes de MNIST\n",
    "        images.resize_(images.size()[0], 784)\n",
    "        \n",
    "        # Reiniciar el gradiente\n",
    "        optimizer.zero_grad()\n",
    "        \n",
    "        # TODO: Pase frontal de la red\n",
    "        output = model.forward(images)\n",
    "        \n",
    "        # TODO: Estimar la perdida\n",
    "        loss = criterion(output, labels)\n",
    "        \n",
    "        # TODO: Backprogation\n",
    "        loss.backward()\n",
    "        \n",
    "        # TODO: Actualizamos los pesos\n",
    "        optimizer.step()\n",
    "        \n",
    "        # Guardamos la perdida para control del entrenamiento\n",
    "        running_loss += loss.item()\n",
    "        \n",
    "        # imprimimos cada 40 lotes\n",
    "        if steps % print_every == 0:\n",
    "            print(\"Epoch: {}/{}... \".format(e+1, epochs),\n",
    "                  \"Loss: {:.4f}\".format(running_loss/print_every))\n",
    "            \n",
    "            running_loss = 0"
   ]
  },
  {
   "attachments": {},
   "cell_type": "markdown",
   "metadata": {},
   "source": [
    "n este notebook, solo nos estamos fijando en la pérdida. Para considerar que el ejercicio es válido debemos mostrar que la pérdida va disminuyendo conforme avanzan las épocas.\n",
    "\n",
    "Finalmente, veamos que tan bien está clasificando la red con un ejemplo aleatorio. ¿Está haciendo predicciónes correctas?\n"
   ]
  },
  {
   "cell_type": "code",
   "execution_count": 16,
   "metadata": {},
   "outputs": [
    {
     "data": {
      "image/png": "[encoded data removed]",
      "text/plain": [
       "<Figure size 600x900 with 2 Axes>"
      ]
     },
     "metadata": {
      "image/png": {
       "height": 327,
       "width": 589
      }
     },
     "output_type": "display_data"
    }
   ],
   "source": [
    "images, labels = next(iter(trainloader))\n",
    "\n",
    "img = images[0].view(1, 784)\n",
    "# Turn off gradients to speed up this part\n",
    "with torch.no_grad():\n",
    "    logits = model.forward(img)\n",
    "\n",
    "# Output of the network are logits, need to take softmax for probabilities\n",
    "ps = F.softmax(logits, dim=1)\n",
    "helper.view_classify(img.view(1, 28, 28), ps)"
   ]
  },
  {
   "attachments": {},
   "cell_type": "markdown",
   "metadata": {},
   "source": [
    "## Referencias\n",
    "\n",
    "[1] Udacity Computer Vision Nanodegree\n",
    "\n",
    "[2] Pytorch https://pytorch.org/"
   ]
  },
  {
   "cell_type": "code",
   "execution_count": null,
   "metadata": {},
   "outputs": [],
   "source": []
  }
 ],
 "metadata": {
  "kernelspec": {
   "display_name": "pytorch",
   "language": "python",
   "name": "python3"
  },
  "language_info": {
   "codemirror_mode": {
    "name": "ipython",
    "version": 3
   },
   "file_extension": ".py",
   "mimetype": "text/x-python",
   "name": "python",
   "nbconvert_exporter": "python",
   "pygments_lexer": "ipython3",
   "version": "3.13.2"
  },
  "widgets": {
   "state": {},
   "version": "1.1.2"
  }
 },
 "nbformat": 4,
 "nbformat_minor": 2
}
