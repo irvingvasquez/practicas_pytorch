{
 "cells": [
  {
   "cell_type": "markdown",
   "metadata": {},
   "source": [
    "# Validación\n",
    "\n",
    "Hasta el momento hemos logrado entrenar la red, es decir, encontrar los pesos tal que se reduce el error entre la salida de la red y la salida esperada. Con los pesos entrenados, la red pude predecir la clase que corresponde a una entrada que no ha visto. Este proceso de predicción conocido como inferencia es la parte más interesante de las redes ya que permite generalizar su uso a casos no vistos. Sin embargo, durante el entrenamiento se puede suscitar un fenómeno conocido como sobre-ajuste (overfitting), donde la red reduce de manera adecuada la pérdida con respecto a los datos de entrenamiento, pero al momento de encontrarse con ejemplos desconocidos, ésta tiene un rendimiento pobre. Este efecto es contrario, por que buscamos **generalizar** el rendimiento de tal forma que clasifique bien ejemplos que no han sido vistos. \n",
    "\n",
    "Para saber que tan bien está generalizando la red se realiza un proceso de validación. En este proceso de validación se verifican las predicciones de la red en un conjunto de datos de validación (En la literatura a este conjunto también se le denomina de prueba).\n",
    "\n",
    "En el resto del notebook veremos como realizar la validación de la red durante el entrenamiento.\n",
    "\n",
    "También haremos uso del *dropout*\n",
    "\n",
    "[![Open In Colab](https://colab.research.google.com/assets/colab-badge.svg)](https://colab.research.google.com/github/irvingvasquez/practicas_pytorch/blob/master/05_validacion.ipynb)\n"
   ]
  },
  {
   "cell_type": "code",
   "execution_count": 1,
   "metadata": {},
   "outputs": [],
   "source": [
    "# Cargamos paquetes necesarios\n",
    "\n",
    "%matplotlib inline\n",
    "%config InlineBackend.figure_format = 'retina'\n",
    "\n",
    "import matplotlib.pyplot as plt\n",
    "import numpy as np\n",
    "import time\n",
    "\n",
    "import torch\n",
    "from torch import nn\n",
    "from torch import optim\n",
    "import torch.nn.functional as F\n",
    "from torchvision import datasets, transforms\n",
    "\n",
    "#helper was developed by Udacity under MIT license\n",
    "import helper"
   ]
  },
  {
   "cell_type": "markdown",
   "metadata": {},
   "source": [
    "## Conjunto de datos (Dataset)\n",
    "\n",
    "Para este ejemplo utilizaremos el Fashion MNIST. Este dataset esta constituido por imágenes de 28 x 28 pixeles y cada imagen contiene prendas como ropa o zapatos.  "
   ]
  },
  {
   "cell_type": "code",
   "execution_count": 2,
   "metadata": {},
   "outputs": [],
   "source": [
    "# Definimos una transformación de los datos\n",
    "transform = transforms.Compose([transforms.ToTensor(),\n",
    "                                transforms.Normalize((0.5), (0.5))])\n",
    "# Descargamos el conjunto de entrenamiento y cargamos mediante un dataLoader\n",
    "trainset = datasets.FashionMNIST('F_MNIST_data/', download=True, train=True, transform=transform)\n",
    "trainloader = torch.utils.data.DataLoader(trainset, batch_size=64, shuffle=True)\n",
    "\n",
    "# Descargamos el conjunto de validación\n",
    "validationset = datasets.FashionMNIST('F_MNIST_data/', download=True, train=False, transform=transform)\n",
    "validationloader = torch.utils.data.DataLoader(validationset, batch_size=64, shuffle=True)"
   ]
  },
  {
   "cell_type": "markdown",
   "metadata": {},
   "source": [
    "## Red Neuronal\n",
    "\n",
    "En esta ocasión, construiremos la red de forma más general, donde las capas ocultas se generarán a partir de un vector que indica el número de capas y el número de nodos de cada capa. Haremos uso del módulo *nn.ModuleList* que nos permitirá crear un número arbitrario de capas. En cierta forma *nn.ModuleList* se comporta como una lista simple de python. "
   ]
  },
  {
   "cell_type": "code",
   "execution_count": 3,
   "metadata": {},
   "outputs": [],
   "source": [
    "class RedNeuronal(nn.Module):\n",
    "    def __init__(self, input_size, output_size, hidden_layers, drop_p = 0.5):\n",
    "        '''\n",
    "        Construye una red de tamaño arbitrario.\n",
    "        \n",
    "        Parámetros:\n",
    "        input_size: cantidad de elementos en la entrada\n",
    "        output_size: cantidada de elementos en la salida \n",
    "        hidden_layers: cantidad de elementos por cada capa oculta\n",
    "        drop_p: probabilidad de \"tirar\" (drop) una neurona [0,1] \n",
    "        '''\n",
    "        # llamamos al constructor de la superclase\n",
    "        super().__init__()\n",
    "        \n",
    "        # Agregamos la primera capa\n",
    "        self.hidden_layers = nn.ModuleList([nn.Linear(input_size, hidden_layers[0])])\n",
    "        \n",
    "        # agregamos cada una de las capas, zip empareja el número de entradas con las salidas\n",
    "        layer_sizes = zip(hidden_layers[:-1], hidden_layers[1:])\n",
    "        self.hidden_layers.extend([nn.Linear(h1, h2) for h1, h2 in layer_sizes])\n",
    "        \n",
    "        # agregamos la capa de salida final de la red\n",
    "        self.output = nn.Linear(hidden_layers[-1], output_size)\n",
    "        \n",
    "        # Incluimos drop-out en la red\n",
    "        self.dropout = nn.Dropout(p=drop_p)\n",
    "        \n",
    "    def forward(self, x):\n",
    "        ''' Pase hacia adelante en la red, el regreso son las probabilidades en el dominio log '''\n",
    "        \n",
    "        # Hacemos un pase frontal en cada una de las capas ocultas, \n",
    "        # La funció de activación es un RELU combinado con dropout\n",
    "        for linear in self.hidden_layers:\n",
    "            x = F.relu(linear(x))\n",
    "            x = self.dropout(x)\n",
    "        \n",
    "        x = self.output(x)\n",
    "        \n",
    "        return F.log_softmax(x, dim=1)"
   ]
  },
  {
   "cell_type": "markdown",
   "metadata": {},
   "source": [
    "## Entrenamiento\n",
    "\n",
    "La pérdida (loss) nos indica que tan bien o mal está clasificando nuestra red. Dado que estamos utilizando el dominio log para calcular las salidas de la red, utilizaremos el criterio negative log loss *nn.NLLLoss()*. Como optimizador utilzaremos ADAM optimzer, el cual combina el gradiente descendiente estocástico con el momentum. "
   ]
  },
  {
   "cell_type": "code",
   "execution_count": 4,
   "metadata": {},
   "outputs": [],
   "source": [
    "# Create the network, define the criterion and optimizer\n",
    "model = RedNeuronal(784, 10, [516, 256], drop_p=0.5)\n",
    "criterion = nn.NLLLoss()\n",
    "optimizer = optim.Adam(model.parameters(), lr=0.001)"
   ]
  },
  {
   "cell_type": "markdown",
   "metadata": {},
   "source": [
    "Ahora programaremos la validación. En esta etapa se mide la exactitud de la red en el conjunto de prueba a fin de ver que tan bien está generalizando la red. Como estamos utilizando drop out durante el entrenamiento al momento de hacer una inferencia este proceso se debe desactivar. Afortunadamente pytorch provee dos modos de funcionamiento para la red: entrenamiento o evaluación, model.train() y model.eval() respectivamente.  "
   ]
  },
  {
   "cell_type": "code",
   "execution_count": 5,
   "metadata": {},
   "outputs": [],
   "source": [
    "# Implementamos una función de evaluación\n",
    "def validation(model, validationloader, criterion):\n",
    "    test_loss = 0\n",
    "    accuracy = 0\n",
    "    for images, labels in validationloader:\n",
    "\n",
    "        images.resize_(images.shape[0], 784)\n",
    "\n",
    "        output = model.forward(images)\n",
    "        test_loss += criterion(output, labels).item()\n",
    "\n",
    "        ps = torch.exp(output)\n",
    "        equality = (labels.data == ps.max(dim=1)[1])\n",
    "        accuracy += equality.type(torch.FloatTensor).mean()\n",
    "    \n",
    "    return test_loss, accuracy"
   ]
  },
  {
   "cell_type": "markdown",
   "metadata": {},
   "source": [
    "### Implementación del entrenamiento y validación\n",
    "\n"
   ]
  },
  {
   "cell_type": "code",
   "execution_count": 7,
   "metadata": {},
   "outputs": [
    {
     "name": "stdout",
     "output_type": "stream",
     "text": [
      "Epoch: 1/2..  Pérdida de entrenamiento: 0.487..  Pérdida de validación: 0.429..  Exactitud de validación: 0.837\n",
      "Epoch: 1/2..  Pérdida de entrenamiento: 0.446..  Pérdida de validación: 0.435..  Exactitud de validación: 0.838\n",
      "Epoch: 1/2..  Pérdida de entrenamiento: 0.458..  Pérdida de validación: 0.425..  Exactitud de validación: 0.845\n",
      "Epoch: 1/2..  Pérdida de entrenamiento: 0.455..  Pérdida de validación: 0.449..  Exactitud de validación: 0.834\n",
      "Epoch: 1/2..  Pérdida de entrenamiento: 0.425..  Pérdida de validación: 0.445..  Exactitud de validación: 0.834\n",
      "Epoch: 1/2..  Pérdida de entrenamiento: 0.494..  Pérdida de validación: 0.434..  Exactitud de validación: 0.842\n",
      "Epoch: 1/2..  Pérdida de entrenamiento: 0.506..  Pérdida de validación: 0.431..  Exactitud de validación: 0.841\n",
      "Epoch: 1/2..  Pérdida de entrenamiento: 0.443..  Pérdida de validación: 0.422..  Exactitud de validación: 0.844\n",
      "Epoch: 1/2..  Pérdida de entrenamiento: 0.474..  Pérdida de validación: 0.432..  Exactitud de validación: 0.837\n",
      "Epoch: 1/2..  Pérdida de entrenamiento: 0.510..  Pérdida de validación: 0.437..  Exactitud de validación: 0.840\n",
      "Epoch: 1/2..  Pérdida de entrenamiento: 0.489..  Pérdida de validación: 0.425..  Exactitud de validación: 0.847\n",
      "Epoch: 1/2..  Pérdida de entrenamiento: 0.475..  Pérdida de validación: 0.431..  Exactitud de validación: 0.844\n",
      "Epoch: 1/2..  Pérdida de entrenamiento: 0.458..  Pérdida de validación: 0.417..  Exactitud de validación: 0.848\n",
      "Epoch: 1/2..  Pérdida de entrenamiento: 0.472..  Pérdida de validación: 0.427..  Exactitud de validación: 0.838\n",
      "Epoch: 1/2..  Pérdida de entrenamiento: 0.478..  Pérdida de validación: 0.413..  Exactitud de validación: 0.848\n",
      "Epoch: 1/2..  Pérdida de entrenamiento: 0.446..  Pérdida de validación: 0.415..  Exactitud de validación: 0.848\n",
      "Epoch: 1/2..  Pérdida de entrenamiento: 0.471..  Pérdida de validación: 0.404..  Exactitud de validación: 0.855\n",
      "Epoch: 1/2..  Pérdida de entrenamiento: 0.449..  Pérdida de validación: 0.417..  Exactitud de validación: 0.846\n",
      "Epoch: 1/2..  Pérdida de entrenamiento: 0.464..  Pérdida de validación: 0.418..  Exactitud de validación: 0.846\n",
      "Epoch: 1/2..  Pérdida de entrenamiento: 0.446..  Pérdida de validación: 0.421..  Exactitud de validación: 0.845\n",
      "Epoch: 1/2..  Pérdida de entrenamiento: 0.436..  Pérdida de validación: 0.405..  Exactitud de validación: 0.852\n",
      "Epoch: 1/2..  Pérdida de entrenamiento: 0.477..  Pérdida de validación: 0.413..  Exactitud de validación: 0.848\n",
      "Epoch: 1/2..  Pérdida de entrenamiento: 0.472..  Pérdida de validación: 0.410..  Exactitud de validación: 0.848\n",
      "Epoch: 2/2..  Pérdida de entrenamiento: 0.439..  Pérdida de validación: 0.408..  Exactitud de validación: 0.851\n",
      "Epoch: 2/2..  Pérdida de entrenamiento: 0.425..  Pérdida de validación: 0.405..  Exactitud de validación: 0.854\n",
      "Epoch: 2/2..  Pérdida de entrenamiento: 0.429..  Pérdida de validación: 0.416..  Exactitud de validación: 0.848\n",
      "Epoch: 2/2..  Pérdida de entrenamiento: 0.486..  Pérdida de validación: 0.406..  Exactitud de validación: 0.853\n",
      "Epoch: 2/2..  Pérdida de entrenamiento: 0.479..  Pérdida de validación: 0.406..  Exactitud de validación: 0.851\n",
      "Epoch: 2/2..  Pérdida de entrenamiento: 0.460..  Pérdida de validación: 0.406..  Exactitud de validación: 0.855\n",
      "Epoch: 2/2..  Pérdida de entrenamiento: 0.490..  Pérdida de validación: 0.412..  Exactitud de validación: 0.852\n",
      "Epoch: 2/2..  Pérdida de entrenamiento: 0.445..  Pérdida de validación: 0.419..  Exactitud de validación: 0.849\n",
      "Epoch: 2/2..  Pérdida de entrenamiento: 0.444..  Pérdida de validación: 0.405..  Exactitud de validación: 0.856\n",
      "Epoch: 2/2..  Pérdida de entrenamiento: 0.428..  Pérdida de validación: 0.403..  Exactitud de validación: 0.852\n",
      "Epoch: 2/2..  Pérdida de entrenamiento: 0.464..  Pérdida de validación: 0.407..  Exactitud de validación: 0.848\n",
      "Epoch: 2/2..  Pérdida de entrenamiento: 0.428..  Pérdida de validación: 0.426..  Exactitud de validación: 0.841\n",
      "Epoch: 2/2..  Pérdida de entrenamiento: 0.435..  Pérdida de validación: 0.411..  Exactitud de validación: 0.850\n",
      "Epoch: 2/2..  Pérdida de entrenamiento: 0.438..  Pérdida de validación: 0.393..  Exactitud de validación: 0.855\n",
      "Epoch: 2/2..  Pérdida de entrenamiento: 0.433..  Pérdida de validación: 0.397..  Exactitud de validación: 0.859\n",
      "Epoch: 2/2..  Pérdida de entrenamiento: 0.424..  Pérdida de validación: 0.423..  Exactitud de validación: 0.845\n",
      "Epoch: 2/2..  Pérdida de entrenamiento: 0.432..  Pérdida de validación: 0.400..  Exactitud de validación: 0.854\n",
      "Epoch: 2/2..  Pérdida de entrenamiento: 0.423..  Pérdida de validación: 0.406..  Exactitud de validación: 0.853\n",
      "Epoch: 2/2..  Pérdida de entrenamiento: 0.458..  Pérdida de validación: 0.420..  Exactitud de validación: 0.838\n",
      "Epoch: 2/2..  Pérdida de entrenamiento: 0.453..  Pérdida de validación: 0.411..  Exactitud de validación: 0.851\n",
      "Epoch: 2/2..  Pérdida de entrenamiento: 0.462..  Pérdida de validación: 0.400..  Exactitud de validación: 0.850\n",
      "Epoch: 2/2..  Pérdida de entrenamiento: 0.401..  Pérdida de validación: 0.403..  Exactitud de validación: 0.852\n",
      "Epoch: 2/2..  Pérdida de entrenamiento: 0.435..  Pérdida de validación: 0.401..  Exactitud de validación: 0.855\n"
     ]
    }
   ],
   "source": [
    "#hiperparámetro\n",
    "epochs = 2\n",
    "steps = 0\n",
    "running_loss = 0\n",
    "print_every = 40\n",
    "for e in range(epochs):\n",
    "    # Cambiamos a modo entrenamiento\n",
    "    model.train()\n",
    "    for images, labels in trainloader:\n",
    "        steps += 1\n",
    "        \n",
    "        # Aplanar imágenes a un vector de 784 elementos\n",
    "        images.resize_(images.size()[0], 784)\n",
    "        \n",
    "        optimizer.zero_grad()\n",
    "        \n",
    "        output = model.forward(images)\n",
    "        loss = criterion(output, labels)\n",
    "        # Backprogamation\n",
    "        loss.backward()\n",
    "        # Optimización\n",
    "        optimizer.step()\n",
    "        \n",
    "        running_loss += loss.item()\n",
    "        \n",
    "        if steps % print_every == 0:\n",
    "            # Cambiamos a modo de evaluación\n",
    "            model.eval()\n",
    "            \n",
    "            # Apagamos los gradientes, reduce memoria y cálculos\n",
    "            with torch.no_grad():\n",
    "                test_loss, accuracy = validation(model, validationloader, criterion)\n",
    "                \n",
    "            print(\"Epoch: {}/{}.. \".format(e+1, epochs),\n",
    "                  \"Pérdida de entrenamiento: {:.3f}.. \".format(running_loss/print_every),\n",
    "                  \"Pérdida de validación: {:.3f}.. \".format(test_loss/len(validationloader)),\n",
    "                  \"Exactitud de validación: {:.3f}\".format(accuracy/len(validationloader)))\n",
    "            \n",
    "            running_loss = 0\n",
    "            \n",
    "            # Make sure training is back on\n",
    "            model.train()"
   ]
  },
  {
   "cell_type": "markdown",
   "metadata": {},
   "source": [
    "## Inferencia\n",
    "\n",
    "Ahora que ya hemos entrenado la red vamos a probar cual es su rendimiento en la clasificación de las prendas de vestir. "
   ]
  },
  {
   "cell_type": "code",
   "execution_count": 8,
   "metadata": {},
   "outputs": [
    {
     "data": {
      "image/png": "[encoded data removed]",
      "text/plain": [
       "<Figure size 432x648 with 2 Axes>"
      ]
     },
     "metadata": {
      "image/png": {
       "height": 216,
       "width": 424
      },
      "needs_background": "light"
     },
     "output_type": "display_data"
    }
   ],
   "source": [
    "# Probemos la red!\n",
    "\n",
    "model.eval()\n",
    "\n",
    "dataiter = iter(validationloader)\n",
    "images, labels = next(dataiter)\n",
    "img = images[0]\n",
    "# Aplanamos la imagenes\n",
    "img = img.view(1, 784)\n",
    "\n",
    "# Estimamos para cada imagen la probabilidad de pertenencia a una clase (softmax)\n",
    "with torch.no_grad():\n",
    "    output = model.forward(img)\n",
    "\n",
    "ps = torch.exp(output)\n",
    "\n",
    "# Graficamos\n",
    "helper.view_classify(img.view(1, 28, 28), ps, version='Fashion')"
   ]
  },
  {
   "cell_type": "code",
   "execution_count": null,
   "metadata": {},
   "outputs": [],
   "source": []
  }
 ],
 "metadata": {
  "kernelspec": {
   "display_name": "practicas_pt",
   "language": "python",
   "name": "python3"
  },
  "language_info": {
   "codemirror_mode": {
    "name": "ipython",
    "version": 3
   },
   "file_extension": ".py",
   "mimetype": "text/x-python",
   "name": "python",
   "nbconvert_exporter": "python",
   "pygments_lexer": "ipython3",
   "version": "3.10.4"
  },
  "vscode": {
   "interpreter": {
    "hash": "e22d029f5570ef7df543599926afc42bb090457ba5a887f8aae20fd6018d0da0"
   }
  },
  "widgets": {
   "state": {},
   "version": "1.1.2"
  }
 },
 "nbformat": 4,
 "nbformat_minor": 2
}
