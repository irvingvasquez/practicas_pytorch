{
 "cells": [
  {
   "cell_type": "markdown",
   "metadata": {},
   "source": [
    "## Ejercicios\n",
    "\n",
    "## SotfMax\n",
    "\n",
    "Implementa la función SoftMax\n",
    "\n",
    "$\n",
    "\\text{softmax}(z_{i}) = \\frac{\\exp(z_i)}{\\sum_j \\exp(z_j)}\n",
    "$\n"
   ]
  },
  {
   "cell_type": "code",
   "execution_count": null,
   "metadata": {},
   "outputs": [],
   "source": [
    "def SoftMax():\n",
    "  return None"
   ]
  },
  {
   "cell_type": "code",
   "execution_count": null,
   "metadata": {},
   "outputs": [],
   "source": [
    "# Verificar el funcionamiento de la función SoftMax\n",
    "a = torch.tensor([0.6, 5.2, 9.2])\n",
    "SoftMax(a)"
   ]
  },
  {
   "cell_type": "markdown",
   "metadata": {},
   "source": [
    "### Implementa la combinación lineal\n",
    "\n",
    "Deberás implementar\n",
    "\n",
    "$$\n",
    "Y = WX + B\n",
    "$$"
   ]
  },
  {
   "cell_type": "code",
   "execution_count": null,
   "metadata": {},
   "outputs": [],
   "source": [
    "# Implementa la combinación lineal de las entradas\n",
    "def combinacion(X, W, B):\n",
    "  return None"
   ]
  },
  {
   "cell_type": "code",
   "execution_count": null,
   "metadata": {},
   "outputs": [],
   "source": [
    "# Verificar el funcionamiento de la función combinacion\n",
    "W = torch.tensor([[1.2, 0.3, 0.1], [.01, 2.1, 0.7]])\n",
    "B = torch.tensor([2.1, 0.89])\n",
    "X = torch.tensor([0.3, 6.8, 0.59])\n",
    "\n",
    "Y = combinacion(X, W, B)\n",
    "if(torch.sum(Y) == 1): \n",
    "    print(\"La función es correcta\")\n",
    "else:\n",
    "    print(\"La función es incorrecta\")"
   ]
  }
 ],
 "metadata": {
  "language_info": {
   "name": "python"
  }
 },
 "nbformat": 4,
 "nbformat_minor": 2
}
