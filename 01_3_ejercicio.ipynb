{
 "cells": [
  {
   "cell_type": "markdown",
   "metadata": {},
   "source": [
    "## Ejercicios\n",
    "\n",
    "Resuelve los siguientes ejercicios.\n",
    "Total de puntos: 3\n",
    "\n",
    "### SotfMax\n",
    "\n",
    "Implementa la función SoftMax (1 punto)\n",
    "\n",
    "$\n",
    "\\text{softmax}(z_{i}) = \\frac{\\exp(z_i)}{\\sum_j \\exp(z_j)}\n",
    "$\n"
   ]
  },
  {
   "cell_type": "code",
   "execution_count": null,
   "metadata": {},
   "outputs": [],
   "source": [
    "def SoftMax():\n",
    "  return None"
   ]
  },
  {
   "cell_type": "code",
   "execution_count": null,
   "metadata": {},
   "outputs": [],
   "source": [
    "# Verificar el funcionamiento de la función SoftMax\n",
    "a = torch.tensor([0.6, 5.2, 9.2])\n",
    "SoftMax(a)"
   ]
  },
  {
   "cell_type": "markdown",
   "metadata": {},
   "source": [
    "### Implementa la combinación lineal\n",
    "\n",
    "Deberás implementar (1 punto)\n",
    "\n",
    "$$\n",
    "Y = WX + B\n",
    "$$"
   ]
  },
  {
   "cell_type": "code",
   "execution_count": null,
   "metadata": {},
   "outputs": [],
   "source": [
    "# Implementa la combinación lineal de las entradas\n",
    "def combinacion(X, W, B):\n",
    "  return None"
   ]
  },
  {
   "cell_type": "code",
   "execution_count": null,
   "metadata": {},
   "outputs": [],
   "source": [
    "# Verificar el funcionamiento de la función combinacion\n",
    "W = torch.tensor([[1.2, 0.3, 0.1], [.01, 2.1, 0.7]])\n",
    "B = torch.tensor([2.1, 0.89])\n",
    "\n",
    "# Genera un vector aleatorio en numpy y pasalo a tensor. Verifica que el tamaño sea correcto.\n",
    "# 1 punto\n",
    "X = None\n",
    "\n",
    "Y = combinacion(X, W, B)\n",
    "S = SoftMax(Y)\n",
    "\n",
    "if(torch.sum(S) == 1): \n",
    "    print(\"La función es correcta\")\n",
    "else:\n",
    "    print(\"La función es incorrecta\")"
   ]
  }
 ],
 "metadata": {
  "language_info": {
   "name": "python"
  }
 },
 "nbformat": 4,
 "nbformat_minor": 2
}
